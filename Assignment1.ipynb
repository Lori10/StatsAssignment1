{
 "cells": [
  {
   "cell_type": "code",
   "execution_count": 1,
   "metadata": {},
   "outputs": [],
   "source": [
    "import numpy as np\n",
    "from scipy import stats\n",
    "import matplotlib.pyplot as plt\n",
    "import seaborn as sns\n",
    "from scipy.integrate import quad\n",
    "%matplotlib inline"
   ]
  },
  {
   "cell_type": "markdown",
   "metadata": {},
   "source": [
    "Calculate the mean, median, mode and standard deviation for the problem\n",
    "statements 1& 2.\n"
   ]
  },
  {
   "cell_type": "markdown",
   "metadata": {},
   "source": [
    "## Exercise 1\n",
    "The marks awarded for an assignment set for a Year 8 class of 20 students were as\n",
    "follows:\n",
    "6 7 5 7 7 8 7 6 9 7 4 10 6 8 8 9 5 6 4 8"
   ]
  },
  {
   "cell_type": "code",
   "execution_count": 25,
   "metadata": {},
   "outputs": [
    {
     "name": "stdout",
     "output_type": "stream",
     "text": [
      "Mean:  6.85\n",
      "Median:  7.0\n",
      "(Mode, Frequency) ModeResult(mode=array([7]), count=array([5]))\n",
      "Mode:  7\n",
      "Standard deviation:  1.5898113095584647\n"
     ]
    }
   ],
   "source": [
    "ds = [6 ,7 ,5 ,7 ,7 ,8 ,7 ,6 ,9 ,7 ,4 ,10 ,6, 8, 8, 9, 5, 6, 4,8]\n",
    "print(\"Mean: \", np.mean(ds))\n",
    "print(\"Median: \", np.median(ds))\n",
    "print(\"(Mode, Frequency)\", stats.mode(ds))\n",
    "print(\"Mode: \", stats.mode(ds)[0][0])\n",
    "print(\"Standard deviation: \" , np.std(ds))"
   ]
  },
  {
   "cell_type": "markdown",
   "metadata": {},
   "source": [
    "## Exercise 2\n",
    "The number of calls from motorists per day for roadside service was recorded for a\n",
    "particular month:\n",
    "28, 122, 217, 130, 120, 86, 80, 90, 140, 120, 70, 40, 145, 113, 90, 68, 174, 194, 170,\n",
    "100, 75, 104, 97, 75,\n",
    "123, 100, 75, 104, 97, 75, 123, 100, 89, 120, 109"
   ]
  },
  {
   "cell_type": "code",
   "execution_count": 26,
   "metadata": {},
   "outputs": [
    {
     "name": "stdout",
     "output_type": "stream",
     "text": [
      "Mean:  107.51428571428572\n",
      "Median:  100.0\n",
      "Mode:  75\n",
      "Standard deviation:  38.77287080168403\n"
     ]
    }
   ],
   "source": [
    "x = [28, 122, 217, 130, 120, 86, 80, 90, 140, 120, 70, 40, 145, 113, 90, 68, 174, 194, 170, 100, 75, 104, 97, 75, \n",
    "123, 100, 75, 104, 97, 75, 123, 100, 89, 120, 109]\n",
    "\n",
    "print(\"Mean: \", np.mean(x))\n",
    "print(\"Median: \", np.median(x))\n",
    "print(\"Mode: \", stats.mode(x)[0][0])\n",
    "print(\"Standard deviation: \" , np.std(x))"
   ]
  },
  {
   "cell_type": "markdown",
   "metadata": {},
   "source": [
    "## Exercise 3\n",
    "The number of times I go to the gym in weekdays, are given below along with its\n",
    "associated probability:\n",
    "x = 0, 1, 2, 3, 4, 5\n",
    "f(x) = 0.09, 0.15, 0.40, 0.25, 0.10, 0.01\n",
    "Calculate the mean no. of workouts in a week. Also evaluate the variance involved in\n",
    "it.\n"
   ]
  },
  {
   "cell_type": "code",
   "execution_count": 27,
   "metadata": {},
   "outputs": [
    {
     "name": "stdout",
     "output_type": "stream",
     "text": [
      "Mean:  2.15\n",
      "Variance:  1.2275\n"
     ]
    }
   ],
   "source": [
    "x = np.array([0.0, 1.0, 2.0, 3.0, 4.0, 5.0])\n",
    "f = np.array([0.09, 0.15, 0.40, 0.25, 0.10, 0.01])\n",
    "Ex = np.sum(x*f)\n",
    "print(\"Mean: \", Ex)\n",
    "\n",
    "Varx = np.sum(pow(x - Ex, 2) * f)\n",
    "print(\"Variance: \", Varx)"
   ]
  },
  {
   "cell_type": "markdown",
   "metadata": {},
   "source": [
    "## Exercise 4 and 9\n",
    "Let the continuous random variable D denote the diameter of the hole drilled in an\n",
    "aluminum sheet. The target diameter to be achieved is 12.5mm. Random\n",
    "disturbances in the process often result in inaccuracy.\n",
    "Historical data shows that the distribution of D can be modelled by the PDF (𝑑) =\n",
    "20𝑒−20(𝑑−12.5), 𝑑 ≥ 12.5. If a part with diameter > 12.6 mm needs to be scrapped,\n",
    "what is the proportion of those parts? What is the CDF when the diameter is of 11\n",
    "mm? What is your conclusion regarding the proportion of scraps?"
   ]
  },
  {
   "cell_type": "code",
   "execution_count": 61,
   "metadata": {},
   "outputs": [
    {
     "data": {
      "text/plain": [
       "[<matplotlib.lines.Line2D at 0x168b1d1a1f0>]"
      ]
     },
     "execution_count": 61,
     "metadata": {},
     "output_type": "execute_result"
    },
    {
     "data": {
      "image/png": "[encoded data removed]",
      "text/plain": [
       "<Figure size 432x288 with 1 Axes>"
      ]
     },
     "metadata": {
      "needs_background": "light"
     },
     "output_type": "display_data"
    }
   ],
   "source": [
    "def pdf(x):\n",
    "    if(x>=12.5):\n",
    "        return 20*np.exp(1) - 20*(x - 12.5)\n",
    "\n",
    "d = [i/10.0 for i in range(125,500)]\n",
    "pd = [pdf(i) for i in d]\n",
    "plt.plot(d, pd, '-')"
   ]
  },
  {
   "cell_type": "markdown",
   "metadata": {},
   "source": [
    "P(d>12.6) = 1 - P(d<=12.6)"
   ]
  },
  {
   "cell_type": "code",
   "execution_count": 58,
   "metadata": {},
   "outputs": [
    {
     "name": "stdout",
     "output_type": "stream",
     "text": [
      "Probability:  0.9466343634308193\n"
     ]
    }
   ],
   "source": [
    "[integral, error] = quad(pdf, a=12.5, b=12.6)\n",
    "p = (100 - integral)/100\n",
    "print(\"Probability: \", p)"
   ]
  },
  {
   "cell_type": "markdown",
   "metadata": {},
   "source": [
    "F(d=11) = P(d<=11) = 0"
   ]
  },
  {
   "cell_type": "markdown",
   "metadata": {},
   "source": [
    "## Exercise 5\n",
    "A company manufactures LED bulbs with a faulty rate of 30%. If I randomly select 6\n",
    "chosen LEDs, what is the probability of having 2 faulty LEDs in my sample?\n",
    "Calculate the average value of this process. Also evaluate the standard deviation\n",
    "associated with it.\n"
   ]
  },
  {
   "cell_type": "code",
   "execution_count": 98,
   "metadata": {},
   "outputs": [
    {
     "data": {
      "text/plain": [
       "0.32413499999999995"
      ]
     },
     "execution_count": 98,
     "metadata": {},
     "output_type": "execute_result"
    }
   ],
   "source": [
    "# In this case we must use Binomial Distribution\n",
    "p = 0.30\n",
    "n = 6\n",
    "k = 2\n",
    "stats.binom.pmf(k, n, p)"
   ]
  },
  {
   "cell_type": "markdown",
   "metadata": {},
   "source": [
    "## Exercise 6\n",
    "Gaurav and Barakha are both preparing for entrance exams. Gaurav attempts to\n",
    "solve 8 questions per day with a correction rate of 75%, while Barakha averages\n",
    "around 12 questions per day with a correction rate of 45%. What is the probability\n",
    "that each of them will solve 5 questions correctly? What happens in cases of 4 and 6\n",
    "correct solutions? What do you infer from it? What are the two main governing\n",
    "factors affecting their ability to solve questions correctly? Give a pictorial\n",
    "representation of the same to validate your answer.\n"
   ]
  },
  {
   "cell_type": "code",
   "execution_count": 99,
   "metadata": {},
   "outputs": [
    {
     "name": "stdout",
     "output_type": "stream",
     "text": [
      "0.20764160156250022\n"
     ]
    }
   ],
   "source": [
    "p1 = 0.75\n",
    "k1 = 5 \n",
    "n1 = 8\n",
    "x1 = stats.binom.pmf(k1, n1, p1)\n",
    "print(x1)"
   ]
  },
  {
   "cell_type": "code",
   "execution_count": 100,
   "metadata": {},
   "outputs": [
    {
     "name": "stdout",
     "output_type": "stream",
     "text": [
      "0.22249823843265792\n"
     ]
    }
   ],
   "source": [
    "p2 = 0.45\n",
    "k2 = 5 \n",
    "n2 = 12\n",
    "x2 = stats.binom.pmf(k2, n2, p2)\n",
    "print(x2)"
   ]
  },
  {
   "cell_type": "code",
   "execution_count": 101,
   "metadata": {},
   "outputs": [
    {
     "name": "stdout",
     "output_type": "stream",
     "text": [
      "0.08651733398437506\n"
     ]
    }
   ],
   "source": [
    "p1 = 0.75\n",
    "k1 = 4 \n",
    "n1 = 8\n",
    "x1 = stats.binom.pmf(k1, n1, p1)\n",
    "print(x1)"
   ]
  },
  {
   "cell_type": "code",
   "execution_count": 102,
   "metadata": {},
   "outputs": [
    {
     "name": "stdout",
     "output_type": "stream",
     "text": [
      "0.16996393213605795\n"
     ]
    }
   ],
   "source": [
    "p2 = 0.45\n",
    "k2 = 4\n",
    "n2 = 12\n",
    "x2 = stats.binom.pmf(k2, n2, p2)\n",
    "print(x2)"
   ]
  },
  {
   "cell_type": "code",
   "execution_count": 103,
   "metadata": {},
   "outputs": [
    {
     "name": "stdout",
     "output_type": "stream",
     "text": [
      "0.31146240234375017\n"
     ]
    }
   ],
   "source": [
    "p1 = 0.75\n",
    "k1 = 6 \n",
    "n1 = 8\n",
    "x1 = stats.binom.pmf(k1, n1, p1)\n",
    "print(x1)"
   ]
  },
  {
   "cell_type": "code",
   "execution_count": 104,
   "metadata": {},
   "outputs": [
    {
     "name": "stdout",
     "output_type": "stream",
     "text": [
      "0.21238468214026424\n"
     ]
    }
   ],
   "source": [
    "p2 = 0.45\n",
    "k2 = 6\n",
    "n2 = 12\n",
    "x2 = stats.binom.pmf(k2, n2, p2)\n",
    "print(x2)"
   ]
  },
  {
   "cell_type": "code",
   "execution_count": 109,
   "metadata": {},
   "outputs": [
    {
     "data": {
      "text/plain": [
       "<matplotlib.collections.LineCollection at 0x168b328b940>"
      ]
     },
     "execution_count": 109,
     "metadata": {},
     "output_type": "execute_result"
    },
    {
     "data": {
      "image/png": "[encoded data removed]",
      "text/plain": [
       "<Figure size 432x288 with 1 Axes>"
      ]
     },
     "metadata": {
      "needs_background": "light"
     },
     "output_type": "display_data"
    }
   ],
   "source": [
    "# n1 = 8 -> Gaurav\n",
    "fig, ax = plt.subplots(1, 1)\n",
    "x = [4,5,6]\n",
    "ax.plot(x, stats.binom.pmf(x, n1, p1), 'bo', ms=8, label='binom pmf')\n",
    "ax.vlines(x, 0, stats.binom.pmf(x, n1, p1), colors='b', lw=5, alpha=0.5)\n"
   ]
  },
  {
   "cell_type": "code",
   "execution_count": 111,
   "metadata": {},
   "outputs": [
    {
     "data": {
      "text/plain": [
       "<matplotlib.collections.LineCollection at 0x168b21213d0>"
      ]
     },
     "execution_count": 111,
     "metadata": {},
     "output_type": "execute_result"
    },
    {
     "data": {
      "image/png": "[encoded data removed]",
      "text/plain": [
       "<Figure size 432x288 with 1 Axes>"
      ]
     },
     "metadata": {
      "needs_background": "light"
     },
     "output_type": "display_data"
    }
   ],
   "source": [
    "# n2 = 12 -> Barakha \n",
    "fig, ax = plt.subplots(1, 1)\n",
    "ax.plot(x, stats.binom.pmf(x, n2, p2), 'bo', ms=8, label='binom pmf')\n",
    "ax.vlines(x, 0, stats.binom.pmf(x, n2, p2), colors='b', lw=5, alpha=0.5)"
   ]
  },
  {
   "cell_type": "code",
   "execution_count": null,
   "metadata": {},
   "outputs": [],
   "source": []
  },
  {
   "cell_type": "markdown",
   "metadata": {},
   "source": [
    "Two main governing factors affecting their ability to solve questions correctly are the probability of solving a question correctly (probability of success p ) and the number of questions per day they are attempting to solve (n)"
   ]
  },
  {
   "cell_type": "markdown",
   "metadata": {},
   "source": [
    "## Exercise 7\n",
    "Customers arrive at a rate of 72 per hour to my shop. What is the probability of 𝑘\n",
    "customers arriving in 4 minutes? a) 5 customers, b) not more than 3 customers, c)\n",
    "more than 3 customers. Give a pictorial representation of the same to validate your\n",
    "answer.\n"
   ]
  },
  {
   "cell_type": "markdown",
   "metadata": {},
   "source": [
    "interval 1 hour -> mu = 72 => interval 4 minutes -> mu = (4*72)/60 = 4.8"
   ]
  },
  {
   "cell_type": "code",
   "execution_count": 88,
   "metadata": {},
   "outputs": [
    {
     "name": "stdout",
     "output_type": "stream",
     "text": [
      "0.17474768364388296\n"
     ]
    }
   ],
   "source": [
    "# a\n",
    "mu1 = (4*72)/60\n",
    "k1 = 5\n",
    "p1 = stats.poisson.pmf(k1, mu1) # P(k=5)\n",
    "print(p1)"
   ]
  },
  {
   "cell_type": "code",
   "execution_count": 89,
   "metadata": {},
   "outputs": [
    {
     "name": "stdout",
     "output_type": "stream",
     "text": [
      "0.29422991649656405\n"
     ]
    }
   ],
   "source": [
    "# b\n",
    "#P(k<=3) = P(k=0) + P(k=1) + P(k=2) + P(k=3)\n",
    "\n",
    "p2 = stats.poisson.pmf(0, mu1) + stats.poisson.pmf(1, mu1) + stats.poisson.pmf(2, mu1) + stats.poisson.pmf(3, mu1)\n",
    "print(p2)"
   ]
  },
  {
   "cell_type": "code",
   "execution_count": 90,
   "metadata": {},
   "outputs": [
    {
     "name": "stdout",
     "output_type": "stream",
     "text": [
      "0.705770083503436\n"
     ]
    }
   ],
   "source": [
    "# c\n",
    "# P(k>3) = 1 - P(k<=3) = 1 - [P(k=0) + P(k=1) + P(k=2) + P(k=3)]\n",
    "p3 = 1 - p2\n",
    "print(p3)"
   ]
  },
  {
   "cell_type": "code",
   "execution_count": 97,
   "metadata": {},
   "outputs": [
    {
     "data": {
      "text/plain": [
       "<matplotlib.collections.LineCollection at 0x168b2121400>"
      ]
     },
     "execution_count": 97,
     "metadata": {},
     "output_type": "execute_result"
    },
    {
     "data": {
      "image/png": "[encoded data removed]",
      "text/plain": [
       "<Figure size 432x288 with 1 Axes>"
      ]
     },
     "metadata": {
      "needs_background": "light"
     },
     "output_type": "display_data"
    }
   ],
   "source": [
    "k = [i for i in range(0,15)]\n",
    "fig, ax = plt.subplots(1, 1)\n",
    "ax.plot(k, stats.poisson.pmf(k, mu1), 'bo', ms=8, label='poisson pmf')\n",
    "ax.vlines(k, 0, stats.poisson.pmf(k, mu1), colors='b', lw=5, alpha=0.5)"
   ]
  },
  {
   "cell_type": "markdown",
   "metadata": {},
   "source": [
    "## Exercise 8\n",
    "I work as a data analyst in Aeon Learning Pvt. Ltd. After analyzing data, I make\n",
    "reports, where I have the efficiency of entering 77 words per minute with 6 errors per\n",
    "hour. What is the probability that I will commit 2 errors in a 455-word financial report?\n",
    "What happens when the no. of words increases/decreases (in case of 1000 words,\n",
    "255 words)? <br>\n",
    "How is the 𝜆 affected? <br>\n",
    "How does it influence the PMF? <br>\n",
    "Give a pictorial representation of the same to validate your answer. "
   ]
  },
  {
   "cell_type": "markdown",
   "metadata": {},
   "source": [
    "77 words : 1 min => 455 words : 5.9min \n",
    "6 errors : 1 hours(60min) -> 5.9min : 0.59 erros(mu)"
   ]
  },
  {
   "cell_type": "code",
   "execution_count": 14,
   "metadata": {},
   "outputs": [
    {
     "name": "stdout",
     "output_type": "stream",
     "text": [
      "0.5909090909090909\n",
      "0.09669027375144444\n"
     ]
    }
   ],
   "source": [
    "total_n_words = 455\n",
    "n_words_per_min = 77\n",
    "errors_per_hour = 6\n",
    "min_per_total_n_words = total_n_words/n_words_per_min\n",
    "average = min_per_total_n_words * errors_per_hour / 60\n",
    "mu1 = average\n",
    "k = 2\n",
    "print(mu1)\n",
    "print(stats.poisson.pmf(k, mu1))"
   ]
  },
  {
   "cell_type": "code",
   "execution_count": 15,
   "metadata": {},
   "outputs": [
    {
     "name": "stdout",
     "output_type": "stream",
     "text": [
      "1.2987012987012987\n",
      "0.23012815007300153\n"
     ]
    }
   ],
   "source": [
    "total_n_words = 1000\n",
    "errors_per_hour = 6\n",
    "min_per_total_n_words = total_n_words/n_words_per_min\n",
    "average = min_per_total_n_words * errors_per_hour / 60\n",
    "mu2 = average\n",
    "k = 2\n",
    "print(mu2)\n",
    "print(stats.poisson.pmf(k, mu2))"
   ]
  },
  {
   "cell_type": "code",
   "execution_count": 16,
   "metadata": {},
   "outputs": [
    {
     "name": "stdout",
     "output_type": "stream",
     "text": [
      "0.3311688311688312\n",
      "0.039377135392854125\n"
     ]
    }
   ],
   "source": [
    "total_n_words = 255\n",
    "errors_per_hour = 6\n",
    "min_per_total_n_words = total_n_words/n_words_per_min\n",
    "average = min_per_total_n_words * errors_per_hour / 60\n",
    "mu3 = average\n",
    "k = 2\n",
    "print(mu3)\n",
    "print(stats.poisson.pmf(k, mu3))"
   ]
  },
  {
   "cell_type": "markdown",
   "metadata": {},
   "source": [
    "#### When the number of words increases, mu (average) increases and probability PMF increases also.\n",
    "#### When the number of words descreases, mu (average) and probability PMF decrease."
   ]
  },
  {
   "cell_type": "code",
   "execution_count": 33,
   "metadata": {},
   "outputs": [
    {
     "data": {
      "text/plain": [
       "<matplotlib.collections.LineCollection at 0x244e71bf580>"
      ]
     },
     "execution_count": 33,
     "metadata": {},
     "output_type": "execute_result"
    },
    {
     "data": {
      "image/png": "[encoded data removed]",
      "text/plain": [
       "<Figure size 432x288 with 1 Axes>"
      ]
     },
     "metadata": {
      "needs_background": "light"
     },
     "output_type": "display_data"
    }
   ],
   "source": [
    "fig, ax = plt.subplots(1,1)\n",
    "k = [2]\n",
    "ax.plot(k, stats.poisson.pmf(k, mu1), 'bo', ms=8, label='poisson pmf')\n",
    "ax.vlines(k, 0, stats.poisson.pmf(k, mu1), colors='b', lw=5, alpha=0.5)"
   ]
  },
  {
   "cell_type": "code",
   "execution_count": 34,
   "metadata": {},
   "outputs": [
    {
     "data": {
      "text/plain": [
       "<matplotlib.collections.LineCollection at 0x244e72393d0>"
      ]
     },
     "execution_count": 34,
     "metadata": {},
     "output_type": "execute_result"
    },
    {
     "data": {
      "image/png": "[encoded data removed]",
      "text/plain": [
       "<Figure size 432x288 with 1 Axes>"
      ]
     },
     "metadata": {
      "needs_background": "light"
     },
     "output_type": "display_data"
    }
   ],
   "source": [
    "fig, ax = plt.subplots(1, 1)\n",
    "ax.plot(k, stats.poisson.pmf(k, mu2), 'bo', ms=8, label='poisson pmf')\n",
    "ax.vlines(k, 0, stats.poisson.pmf(k, mu2), colors='b', lw=5, alpha=0.5)"
   ]
  },
  {
   "cell_type": "code",
   "execution_count": 35,
   "metadata": {},
   "outputs": [
    {
     "data": {
      "text/plain": [
       "<matplotlib.collections.LineCollection at 0x244e72907f0>"
      ]
     },
     "execution_count": 35,
     "metadata": {},
     "output_type": "execute_result"
    },
    {
     "data": {
      "image/png": "[encoded data removed]",
      "text/plain": [
       "<Figure size 432x288 with 1 Axes>"
      ]
     },
     "metadata": {
      "needs_background": "light"
     },
     "output_type": "display_data"
    }
   ],
   "source": [
    "fig, ax = plt.subplots(1, 1)\n",
    "ax.plot(k, stats.poisson.pmf(k, mu3), 'bo', ms=8, label='poisson pmf')\n",
    "ax.vlines(k, 0, stats.poisson.pmf(k, mu3), colors='b', lw=5, alpha=0.5)"
   ]
  },
  {
   "cell_type": "code",
   "execution_count": null,
   "metadata": {},
   "outputs": [],
   "source": []
  },
  {
   "cell_type": "markdown",
   "metadata": {},
   "source": [
    "## Exercise 10\n",
    "Please compute the following:\n",
    "a) P(Z > 1.26), . P(Z < −0.86), P(Z > −1.37), P(−1.25 < Z < 0.37), . P(Z ≤ −4.6)\n",
    "b) Find the value 𝑧 such that 𝑃(𝑍 > 𝑧) = 0.05\n",
    "c) Find the value of 𝑧 such that 𝑃(−𝑧 < 𝑍 < 𝑧) = 0.99"
   ]
  },
  {
   "cell_type": "code",
   "execution_count": 46,
   "metadata": {},
   "outputs": [
    {
     "name": "stdout",
     "output_type": "stream",
     "text": [
      "0.10383468112130045\n",
      "0.1948945212518084\n",
      "0.914656549178033\n",
      "0.5386589811336914\n",
      "2.1124547025028537e-06\n"
     ]
    }
   ],
   "source": [
    "# a\n",
    "# P(Z>1.26) = 1 - P(Z<=1.26) = 1 - F(1.26)\n",
    "print(1 - stats.norm.cdf(1.26))\n",
    "\n",
    "# P(Z < −0.86) = F(-0.86)\n",
    "print(stats.norm.cdf(-0.86))\n",
    "\n",
    "# P(Z > −1.37) = 1 - P(Z <= -1.37) = F(-1.37)\n",
    "print(1 - stats.norm.cdf(-1.37))\n",
    "\n",
    "# P(−1.25 < Z < 0.37) = F(0.37) - F(-1.25)\n",
    "print(stats.norm.cdf(0.37) - stats.norm.cdf(-1.25))\n",
    "\n",
    "# P(Z ≤ −4.6)\n",
    "print(stats.norm.cdf(-4.6))"
   ]
  },
  {
   "cell_type": "code",
   "execution_count": 63,
   "metadata": {},
   "outputs": [
    {
     "name": "stdout",
     "output_type": "stream",
     "text": [
      "1.6\n"
     ]
    }
   ],
   "source": [
    "# b\n",
    "# P(Z > z) = 1 - P(Z <= z) = 1 - F(z) => 1 - F(z) = 0.05 => F(z) = 0.95 \n",
    "# We must find z so that F(z) = 0.95\n",
    "\n",
    "Fz = 1 - 0.05\n",
    "#z = [i/100.0 for i in range(-349, 349)] # get z from -3.49 till 3.49\n",
    "for i in range(-349,349):\n",
    "    z = i/100.0\n",
    "    cdf = round(stats.norm.cdf(z), 2)\n",
    "    if(cdf == Fz):\n",
    "        print(z)\n",
    "        break\n",
    "    \n"
   ]
  },
  {
   "cell_type": "code",
   "execution_count": 71,
   "metadata": {},
   "outputs": [
    {
     "name": "stdout",
     "output_type": "stream",
     "text": [
      "2.44\n"
     ]
    }
   ],
   "source": [
    "# c\n",
    "# c) Find the value of 𝑧 such that 𝑃(−𝑧 < 𝑍 < 𝑧) = 0.99\n",
    "# P(-z < Z < z) = F(z) - F(-z) => F(z) - F(-z) = 0.99\n",
    "# We must find z so that F(z) - F(-z) = 0.99\n",
    "var = 0.99\n",
    "for i in range(-349, 349):\n",
    "    z = i/100.0\n",
    "    cdf_z = round(stats.norm.cdf(z), 3)\n",
    "    cdf_minusz = round(stats.norm.cdf(-z), 3)\n",
    "    if((round(cdf_z - cdf_minusz,2)) == var):\n",
    "        print(z)\n",
    "        break\n",
    "            "
   ]
  },
  {
   "cell_type": "markdown",
   "metadata": {},
   "source": [
    "## Exercise 11\n",
    "The current flow in a copper wire follow a normal distribution with a mean of 10 𝑚A\n",
    "and a variance of 4 (𝑚𝐴)2.\n",
    "What is the probability that a current measurement will exceed 13 𝑚𝐴? What is the\n",
    "probability that a current measurement is between 9 and 11mA? Determine the\n",
    "current measurement which has a probability of 0.98."
   ]
  },
  {
   "cell_type": "code",
   "execution_count": 74,
   "metadata": {},
   "outputs": [],
   "source": [
    "# x~N(10,4) -> z~(0,1)    \n",
    "mean = 10\n",
    "var = 4\n",
    "sigma = np.sqrt(var)"
   ]
  },
  {
   "cell_type": "code",
   "execution_count": 76,
   "metadata": {},
   "outputs": [
    {
     "name": "stdout",
     "output_type": "stream",
     "text": [
      "0.3085375387259869\n"
     ]
    }
   ],
   "source": [
    "# P(x > 11) = P((x - 10)/2 > (11 - 10)/2) => P(Z > 0.5) = 1 - P(Z <= 0.5) = 1 - F(0.5)\n",
    "z = (11 - mean) / sigma\n",
    "print(1 - stats.norm.cdf(z))"
   ]
  },
  {
   "cell_type": "code",
   "execution_count": 78,
   "metadata": {},
   "outputs": [
    {
     "name": "stdout",
     "output_type": "stream",
     "text": [
      "0.38292492254802624\n"
     ]
    }
   ],
   "source": [
    "# P(9 <= x <= 11) = P(-0.5 <= Z <= 0.5) = F(0.5) - F(-0.5) \n",
    "a = (9 - mean) / sigma\n",
    "b = (11 - mean) / sigma\n",
    "print(stats.norm.cdf(b) - stats.norm.cdf(a))"
   ]
  },
  {
   "cell_type": "code",
   "execution_count": null,
   "metadata": {},
   "outputs": [],
   "source": [
    "# P(x=0.98) = 0 since Normal Distribution is a continuous distribution"
   ]
  },
  {
   "cell_type": "markdown",
   "metadata": {},
   "source": [
    "## Exercise 12\n",
    "The shaft in a piston has its diameter normally distributed with a mean of 0.2508 inch\n",
    "and a standard deviation of 0.0005 inch. The specifications of the shaft are 0.2500 ∓\n",
    "0.0015 inch. What proportion of shafts are in sync with the specifications? If the\n",
    "process is centered so that the mean is equal to the target value of 0.2500, what\n",
    "proportion of shafts conform to the new specifications? What is your conclusion from\n",
    "this experiment?"
   ]
  },
  {
   "cell_type": "code",
   "execution_count": null,
   "metadata": {},
   "outputs": [],
   "source": []
  }
 ],
 "metadata": {
  "kernelspec": {
   "display_name": "Python 3",
   "language": "python",
   "name": "python3"
  },
  "language_info": {
   "codemirror_mode": {
    "name": "ipython",
    "version": 3
   },
   "file_extension": ".py",
   "mimetype": "text/x-python",
   "name": "python",
   "nbconvert_exporter": "python",
   "pygments_lexer": "ipython3",
   "version": "3.8.3"
  }
 },
 "nbformat": 4,
 "nbformat_minor": 4
}
